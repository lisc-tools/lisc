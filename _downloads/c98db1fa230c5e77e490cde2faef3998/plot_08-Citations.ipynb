{
  "cells": [
    {
      "cell_type": "markdown",
      "metadata": {},
      "source": [
        "\n# Tutorial 08: Collecting Citation Data\n\nCollecting citation data from OpenCitations.\n"
      ]
    },
    {
      "cell_type": "markdown",
      "metadata": {},
      "source": [
        "## References & Citations\n\nCitation data, such as the list of articles a paper cites, and how many citations it\nreceives, can be another useful measure for investigating the scientific literature.\nUnfortunately, citation data has historically been hard to access and investigate, due to\na lack of available databases and APIs that provide access to such information.\n\n### OpenCitations Project\n\nRecently, citation data has become more available with the\n[OpenCitations](https://opencitations.net) project, which\nis an initiative to support and provide open bibliographic and citation data.\n\nThe OpenCitations project maintains a database of citation data, and provides an API.\nthat can be accessed using LISC.\n\nThe main function for accessing the OpenCitations API is :func:`~.collect_citations`.\n\n\n"
      ]
    },
    {
      "cell_type": "code",
      "execution_count": null,
      "metadata": {
        "collapsed": false
      },
      "outputs": [],
      "source": [
        "# Import the function used to access the OpenCitations API\nfrom lisc.collect import collect_citations"
      ]
    },
    {
      "cell_type": "markdown",
      "metadata": {},
      "source": [
        "## OpenCitations API\n\nThe OpenCitations [API](https://opencitations.net/index/coci/api/v1) offers multiple\nutilities to collect citation and reference data.\n\nArticles of interest can be searched for in the OpenCitations database using their\n[DOIs](https://en.wikipedia.org/wiki/Digital_object_identifier).\n\nLISC supports collecting the number of citations and references, as well as lists of DOIs\nthat cite or are cited by requested articles.\n\nIn the following example, we will specify some DOIs or articles of interest, and collect\ncitation and reference information about them with OpenCitations.\n\n\n"
      ]
    },
    {
      "cell_type": "code",
      "execution_count": null,
      "metadata": {
        "collapsed": false
      },
      "outputs": [],
      "source": [
        "# Set up a list of DOIs to collect data for\ndois = ['10.1007/s00228-017-2226-2', '10.1186/1756-8722-6-59']"
      ]
    },
    {
      "cell_type": "markdown",
      "metadata": {},
      "source": [
        "## Citation Data\n\nCitations refers to articles that are cited by a specified article.\n\nTo do so, we need to pass our list of DOIs to the :func:`~.collect_citations` function.\nTo get citations for these DOIs, we will use the 'citations' operation, which we specify\nby setting the 'util' argument to 'citations'.\n\n\n"
      ]
    },
    {
      "cell_type": "code",
      "execution_count": null,
      "metadata": {
        "collapsed": false
      },
      "outputs": [],
      "source": [
        "# Collect citation data from OpenCitations\nn_citations, meta_data = collect_citations(dois, util='citations')"
      ]
    },
    {
      "cell_type": "markdown",
      "metadata": {},
      "source": [
        "By default, :func:`~.collect_citations` returns a dictionary which stores the number\nof citations per input DOI, as well as a :class:`~.MetaData` object describing the collection.\n\n\n"
      ]
    },
    {
      "cell_type": "code",
      "execution_count": null,
      "metadata": {
        "collapsed": false
      },
      "outputs": [],
      "source": [
        "# Check out the number of citations per DOI\nfor doi, n_cite in n_citations.items():\n    print('{:25s} \\t : {}'.format(doi, n_cite))"
      ]
    },
    {
      "cell_type": "markdown",
      "metadata": {},
      "source": [
        "You can also specify to collect DOIs of the papers that cite papers of interest.\n\nTo do so, set the `collect_dois` argument to True, in which case an additional dictionary\nstoring the DOIs of the articles that cite the searched for article(s) will be returned.\n\n\n"
      ]
    },
    {
      "cell_type": "code",
      "execution_count": null,
      "metadata": {
        "collapsed": false
      },
      "outputs": [],
      "source": [
        "# Collect citations, including the list of cited DOIs\nn_cites, cite_dois, meta_data = collect_citations(dois, util='citations', collect_dois=True)"
      ]
    },
    {
      "cell_type": "code",
      "execution_count": null,
      "metadata": {
        "collapsed": false
      },
      "outputs": [],
      "source": [
        "# Check the collected list of citing DOIs\ncite_dois[dois[0]]"
      ]
    },
    {
      "cell_type": "markdown",
      "metadata": {},
      "source": [
        "## Reference Data\n\nInstead of searching for citations to specified articles, we can also search for\nreferences, which refers to articles that are cited by the specified article(s).\n\nTo do so, set the `util` argument to use the 'references' operation.\n\n\n"
      ]
    },
    {
      "cell_type": "code",
      "execution_count": null,
      "metadata": {
        "collapsed": false
      },
      "outputs": [],
      "source": [
        "# Collect reference data\nn_references, ref_dois, meta_data = collect_citations(dois, util='references', collect_dois=True)"
      ]
    },
    {
      "cell_type": "code",
      "execution_count": null,
      "metadata": {
        "collapsed": false
      },
      "outputs": [],
      "source": [
        "# Check out the number of references per DOI\nfor doi, n_refs in n_references.items():\n    print('{:25s} \\t : {}'.format(doi, n_refs))"
      ]
    },
    {
      "cell_type": "markdown",
      "metadata": {},
      "source": [
        "## Additional Operations\n\nThere is additional information in the OpenCitations database, including meta-data- on\nindividual articles that are cited and included in references.\n\nThis information is not yet accessible through LISC. Contributions are always\nwelcome to extend the functionality. If you might be interested, feel free to get in\ntouch on [Github](https://github.com/lisc-tools/lisc).\n\n\n"
      ]
    },
    {
      "cell_type": "markdown",
      "metadata": {},
      "source": [
        "### The End!\n\nThat is the end of the main tutorial for LISC!\n\nThere are some additional stand alone examples on the\n[examples](https://lisc-tools.github.io/lisc/auto_tutorials/index.html)\npage.\n\nIf you have any further questions, or find any problems with the code,\nplease get in touch through the Github\n[issues](https://github.com/lisc-tools/lisc/issues)\npage.\n\n\n"
      ]
    }
  ],
  "metadata": {
    "kernelspec": {
      "display_name": "Python 3",
      "language": "python",
      "name": "python3"
    },
    "language_info": {
      "codemirror_mode": {
        "name": "ipython",
        "version": 3
      },
      "file_extension": ".py",
      "mimetype": "text/x-python",
      "name": "python",
      "nbconvert_exporter": "python",
      "pygments_lexer": "ipython3",
      "version": "3.8.3"
    }
  },
  "nbformat": 4,
  "nbformat_minor": 0
}