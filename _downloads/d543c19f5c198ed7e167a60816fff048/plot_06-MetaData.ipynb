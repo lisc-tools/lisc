{
  "cells": [
    {
      "cell_type": "code",
      "execution_count": null,
      "metadata": {
        "collapsed": false
      },
      "outputs": [],
      "source": [
        "%matplotlib inline"
      ]
    },
    {
      "cell_type": "markdown",
      "metadata": {},
      "source": [
        "\n# Tutorial 06: MetaData\n\nExploring metadata collected and saved during data collections.\n"
      ]
    },
    {
      "cell_type": "code",
      "execution_count": null,
      "metadata": {
        "collapsed": false
      },
      "outputs": [],
      "source": [
        "from lisc.utils.db import SCDB\nfrom lisc.utils.io import load_object"
      ]
    },
    {
      "cell_type": "markdown",
      "metadata": {},
      "source": [
        "## Metadata\n\nWhenever you collect data with LISC, meta data is collected about the API requests\nand databases accessed.\n\nHere we will explore the metadata collected during our previous investigations.\n\n\n"
      ]
    },
    {
      "cell_type": "code",
      "execution_count": null,
      "metadata": {
        "collapsed": false
      },
      "outputs": [],
      "source": [
        "# Reload the counts object\ncounts = load_object('tutorial_counts', SCDB('lisc_db'))"
      ]
    },
    {
      "cell_type": "markdown",
      "metadata": {},
      "source": [
        "## Metadata Object\n\nMetadata information is collected into a custom :class:`~.MetaData` object.\n\nIf you are collecting data using the LISC object, such as the :class:`~.Counts`\nor :class:`~.Words` object, this collection information is attached and saved\nto the object as the `meta_data` attribute.\n\n\n"
      ]
    },
    {
      "cell_type": "code",
      "execution_count": null,
      "metadata": {
        "collapsed": false
      },
      "outputs": [],
      "source": [
        "# Check the date on which the collection happened\nprint(counts.meta_data.date)"
      ]
    },
    {
      "cell_type": "code",
      "execution_count": null,
      "metadata": {
        "collapsed": false
      },
      "outputs": [],
      "source": [
        "# Check the information about the database from which data was collected\ncounts.meta_data.db_info"
      ]
    },
    {
      "cell_type": "markdown",
      "metadata": {},
      "source": [
        "For the next part, we'll reload the :class:`~.Words` object, which also has stored meta data.\n\n\n"
      ]
    },
    {
      "cell_type": "code",
      "execution_count": null,
      "metadata": {
        "collapsed": false
      },
      "outputs": [],
      "source": [
        "# Reload the words object\nwords = load_object('tutorial_words', SCDB('lisc_db'))"
      ]
    },
    {
      "cell_type": "markdown",
      "metadata": {},
      "source": [
        "### Requester MetaData\n\nThe collected metadata also includes information from the :class:`~.Requester`\nobject, which is used to launch URL requests.\n\nThe Requester object tracks information including when URL requests were\nlaunched and the number of requests made.\n\n\n"
      ]
    },
    {
      "cell_type": "code",
      "execution_count": null,
      "metadata": {
        "collapsed": false
      },
      "outputs": [],
      "source": [
        "# Check meta data from the requester object\nwords.meta_data.requester"
      ]
    },
    {
      "cell_type": "markdown",
      "metadata": {},
      "source": [
        "### The End!\n\nThat is the end of the main tutorial for LISC!\n\nThere are some additional stand alone examples on the\n`examples <https://lisc-tools.github.io/lisc/auto_tutorials/index.html>`_\npage.\n\nIf you have any further questions, or find any problems with the code,\nplease get in touch through the Github\n`issues <https://github.com/lisc-tools/lisc/issues>`_\npage.\n\n\n"
      ]
    }
  ],
  "metadata": {
    "kernelspec": {
      "display_name": "Python 3",
      "language": "python",
      "name": "python3"
    },
    "language_info": {
      "codemirror_mode": {
        "name": "ipython",
        "version": 3
      },
      "file_extension": ".py",
      "mimetype": "text/x-python",
      "name": "python",
      "nbconvert_exporter": "python",
      "pygments_lexer": "ipython3",
      "version": "3.8.3"
    }
  },
  "nbformat": 4,
  "nbformat_minor": 0
}