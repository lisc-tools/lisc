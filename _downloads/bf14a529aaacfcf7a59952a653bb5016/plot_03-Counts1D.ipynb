{
  "cells": [
    {
      "cell_type": "markdown",
      "metadata": {},
      "source": [
        "\n# Tutorial 03: 1D Counts\n\nCollect term occurrence data from the scientific literature.\n"
      ]
    },
    {
      "cell_type": "markdown",
      "metadata": {},
      "source": [
        "## Term Occurrence\n\nOne thing we may want to examine in the literature is how common certain research topics are.\n\nTo do so, we can search for term occurrence - how often particular search terms occur in the\nthe literature. This will be the topic of the current tutorial.\n\n\n"
      ]
    },
    {
      "cell_type": "code",
      "execution_count": null,
      "metadata": {
        "collapsed": false
      },
      "outputs": [],
      "source": [
        "# Import the Counts1D object, which is used for co-occurrence analysis\nfrom lisc import Counts1D"
      ]
    },
    {
      "cell_type": "markdown",
      "metadata": {},
      "source": [
        "## Counts1D Object\n\nThe :class:`~.Counts1D` object is used to handle term occurrence collection and analyses.\n\nThis object is based on the :class:`~.Base` object introduced in the prior tutorial,\nmeaning we can define and add terms to it like introduced there.\n\n\n"
      ]
    },
    {
      "cell_type": "code",
      "execution_count": null,
      "metadata": {
        "collapsed": false
      },
      "outputs": [],
      "source": [
        "# Set up some terms to search for\nterms = [['frontal lobe'], ['temporal lobe'], ['parietal lobe'], ['occipital lobe']]"
      ]
    },
    {
      "cell_type": "code",
      "execution_count": null,
      "metadata": {
        "collapsed": false
      },
      "outputs": [],
      "source": [
        "# Initialize counts object & add the terms that we want to collect co-occurrences for\ncounts1d = Counts1D()\ncounts1d.add_terms(terms)"
      ]
    },
    {
      "cell_type": "markdown",
      "metadata": {},
      "source": [
        "As before, we can check the terms that we've added to the object.\n\nNote that adding terms could also include adding synonyms, inclusion, and exclusion terms\n(see previous tutorials).\n\n\n"
      ]
    },
    {
      "cell_type": "code",
      "execution_count": null,
      "metadata": {
        "collapsed": false
      },
      "outputs": [],
      "source": [
        "# Check terms definition\ncounts1d.check_terms()"
      ]
    },
    {
      "cell_type": "markdown",
      "metadata": {},
      "source": [
        "Now we are ready to run collection!\n\n\n"
      ]
    },
    {
      "cell_type": "code",
      "execution_count": null,
      "metadata": {
        "collapsed": false
      },
      "outputs": [],
      "source": [
        "# Collect term occurrence data\ncounts1d.run_collection(verbose=True)"
      ]
    },
    {
      "cell_type": "markdown",
      "metadata": {},
      "source": [
        "We have now collected some literature data!\n\nThe :class:`~.Counts1D` object will now contain data on term occurrence in the literature.\n\nThis is stored in the `counts` attribute of the object.\n\nWe can check the results of the occurrence search with the `check_counts` method.\n\n\n"
      ]
    },
    {
      "cell_type": "code",
      "execution_count": null,
      "metadata": {
        "collapsed": false
      },
      "outputs": [],
      "source": [
        "# Check counts per term\ncounts1d.check_counts()"
      ]
    },
    {
      "cell_type": "markdown",
      "metadata": {},
      "source": [
        "If we want to compare term occurrences, we can also use the `check_top` method to check\nthe term with the most occurrences.\n\n\n"
      ]
    },
    {
      "cell_type": "code",
      "execution_count": null,
      "metadata": {
        "collapsed": false
      },
      "outputs": [],
      "source": [
        "# Check top term\ncounts1d.check_top()"
      ]
    },
    {
      "cell_type": "markdown",
      "metadata": {},
      "source": [
        "By itself, term occurrence provides some insight into the literature, in a simple way.\n\nIn the next tutorial we will build up from this simple term occurrence to examine term\nco-occurrence, allowing for examining more complex questions about how different research\ntopics relate to each other.\n\n\n"
      ]
    }
  ],
  "metadata": {
    "kernelspec": {
      "display_name": "Python 3",
      "language": "python",
      "name": "python3"
    },
    "language_info": {
      "codemirror_mode": {
        "name": "ipython",
        "version": 3
      },
      "file_extension": ".py",
      "mimetype": "text/x-python",
      "name": "python",
      "nbconvert_exporter": "python",
      "pygments_lexer": "ipython3",
      "version": "3.8.3"
    }
  },
  "nbformat": 4,
  "nbformat_minor": 0
}