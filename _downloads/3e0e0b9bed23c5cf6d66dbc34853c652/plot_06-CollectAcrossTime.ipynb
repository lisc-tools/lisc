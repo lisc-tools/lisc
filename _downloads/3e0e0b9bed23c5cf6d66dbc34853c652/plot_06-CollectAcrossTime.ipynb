{
  "cells": [
    {
      "cell_type": "markdown",
      "metadata": {},
      "source": [
        "\n# Tutorial 06: Collect Across Time\n\nCollecting and examining data collected across time.\n"
      ]
    },
    {
      "cell_type": "markdown",
      "metadata": {},
      "source": [
        "## Collecting By Time\n\nThe EUtils API allows for selecting a date range to collect articles published within\nparticular time frames. One thing we can use this for is to collect information for\narticles published across time.\n\n\n"
      ]
    },
    {
      "cell_type": "code",
      "execution_count": null,
      "metadata": {
        "collapsed": false
      },
      "outputs": [],
      "source": [
        "# Import LISC objects\nfrom lisc import Counts1D, Words\n\n# Import function to collect literature data over time\nfrom lisc.collect import collect_across_time\n\n# Import plots that are available for time-related analyses\nfrom lisc.plts.time import plot_results_across_years"
      ]
    },
    {
      "cell_type": "markdown",
      "metadata": {},
      "source": [
        "## Example 1: Simple Example of Counts over Years\n\nIn this first example, we will use the :class:`~.Counts1D` class and approach to\ncollect information about how many papers discuss a topic over time.\n\nTo do so, we will first define a simple set of terms, and initialize the LISC object.\n\n\n"
      ]
    },
    {
      "cell_type": "code",
      "execution_count": null,
      "metadata": {
        "collapsed": false
      },
      "outputs": [],
      "source": [
        "# Define a set of terms to use\nterms_a = ['brain', 'body']"
      ]
    },
    {
      "cell_type": "code",
      "execution_count": null,
      "metadata": {
        "collapsed": false
      },
      "outputs": [],
      "source": [
        "# Initialize a Counts1D object to use\ncounts = Counts1D()\n\n# Add terms to counts object\ncounts.add_terms(terms_a)"
      ]
    },
    {
      "cell_type": "markdown",
      "metadata": {},
      "source": [
        "Next we have to define the time range(s) that we want to collect literature data for!\n\nTo do so, we define a list of years which specifies a set of ranges to collect data for.\n\nBy default, all date ranges reflect full years, from January 1st of the start year until\nDecember 31st of the year prior to the listed end year (so that there is no overlap).\n\nFor example, if a list of years was defined [1900, 1950, 2000], this would collect data for:\n\n- year range 1900-1950, defined as January 1st 1900 to December 31st 1949\n- year range 1950-2000, defined as January 1st 1950 to December 31st 1999\n\n\n"
      ]
    },
    {
      "cell_type": "code",
      "execution_count": null,
      "metadata": {
        "collapsed": false
      },
      "outputs": [],
      "source": [
        "# Define a range of years to collect data for\nyears_a = [1970, 1980, 1990, 2000, 2010, 2020]"
      ]
    },
    {
      "cell_type": "markdown",
      "metadata": {},
      "source": [
        "To run a collection of literature data across time, we use the\n:func:`~.collect_across_time` function.\n\nThis function takes as input a pre-initialized LISC object, used to collect the data, as\nwell as the definition of which years to run the search for.\n\n\n"
      ]
    },
    {
      "cell_type": "code",
      "execution_count": null,
      "metadata": {
        "collapsed": false
      },
      "outputs": [],
      "source": [
        "# Collect counts data across years\nyear_results = collect_across_time(counts, years_a)"
      ]
    },
    {
      "cell_type": "markdown",
      "metadata": {},
      "source": [
        "Running this collection returns a list of LISC objects, which each object corresponding\nto a time range as defined by the `years` argument.\n\n\n"
      ]
    },
    {
      "cell_type": "code",
      "execution_count": null,
      "metadata": {
        "collapsed": false
      },
      "outputs": [],
      "source": [
        "# Check the output of running the collection across time\nyear_results"
      ]
    },
    {
      "cell_type": "markdown",
      "metadata": {},
      "source": [
        "Now that we have collected this data\n\nFor example, if collecting Counts data as done here, the :func:`~.plot_results_across_years`\nfunction can be used to plot the results across the collected time ranges.\n\n\n"
      ]
    },
    {
      "cell_type": "code",
      "execution_count": null,
      "metadata": {
        "collapsed": false
      },
      "outputs": [],
      "source": [
        "# Plot the results over time\nplot_results_across_years(year_results)"
      ]
    },
    {
      "cell_type": "markdown",
      "metadata": {},
      "source": [
        "## Example 2: Additional Counts Explorations\n\nIn the first example, we searched for simple term counts across time. Searches across time\nalso support more complex terms and search criteria.\n\nIn this example, we will search for a more complex counts analysis across time.\n\n\n"
      ]
    },
    {
      "cell_type": "code",
      "execution_count": null,
      "metadata": {
        "collapsed": false
      },
      "outputs": [],
      "source": [
        "# Define range of years to collect data for\nyears_b = list(range(2000, 2026, 2))"
      ]
    },
    {
      "cell_type": "code",
      "execution_count": null,
      "metadata": {
        "collapsed": false
      },
      "outputs": [],
      "source": [
        "# Define terms lists\nterms_b = ['frontal', 'parietal', 'temporal', 'occipital']\ninclusions_b = ['brain', 'neuroscience', 'lobe', 'cortex']"
      ]
    },
    {
      "cell_type": "code",
      "execution_count": null,
      "metadata": {
        "collapsed": false
      },
      "outputs": [],
      "source": [
        "# Initialize LISC object and add terms\ncounts = Counts1D()\ncounts.add_terms(terms_b)\ncounts.add_terms(inclusions_b, 'inclusions')"
      ]
    },
    {
      "cell_type": "code",
      "execution_count": null,
      "metadata": {
        "collapsed": false
      },
      "outputs": [],
      "source": [
        "# Run collection across time\nyear_results = collect_across_time(counts, years_b)"
      ]
    },
    {
      "cell_type": "markdown",
      "metadata": {},
      "source": [
        "As before, the output of `collect_across_time` is a list of returned LISC objects.\n\nWe can examine the results for a particular time period.\n\n\n"
      ]
    },
    {
      "cell_type": "code",
      "execution_count": null,
      "metadata": {
        "collapsed": false
      },
      "outputs": [],
      "source": [
        "# Access an individual search\nyear_results[2010].check_counts()"
      ]
    },
    {
      "cell_type": "markdown",
      "metadata": {},
      "source": [
        "We can also plot the results across years, comparing across all search items.\n\n\n"
      ]
    },
    {
      "cell_type": "code",
      "execution_count": null,
      "metadata": {
        "collapsed": false
      },
      "outputs": [],
      "source": [
        "# Plot the results over time\nplot_results_across_years(year_results)"
      ]
    },
    {
      "cell_type": "markdown",
      "metadata": {},
      "source": [
        "## Example 3: Words\n\nIn the examples above, we searched for article counts and co-occurrences across time,\nWe can also collect article information across time, using the :class:`~.Words` object.\n\nTo do so, as before we start by defining the time range to search, and our search terms.\n\n\n"
      ]
    },
    {
      "cell_type": "code",
      "execution_count": null,
      "metadata": {
        "collapsed": false
      },
      "outputs": [],
      "source": [
        "# Define time ranges to collect data across\ndecades = [1930, 1940, 1950]"
      ]
    },
    {
      "cell_type": "code",
      "execution_count": null,
      "metadata": {
        "collapsed": false
      },
      "outputs": [],
      "source": [
        "# Define search terms\nterms_c = ['metabolism']\nincl_c = ['brain']"
      ]
    },
    {
      "cell_type": "markdown",
      "metadata": {},
      "source": [
        "Now we can add our search terms to a Words object.\n\n\n"
      ]
    },
    {
      "cell_type": "code",
      "execution_count": null,
      "metadata": {
        "collapsed": false
      },
      "outputs": [],
      "source": [
        "# Initialize words object, and add terms\nwords = Words()\nwords.add_terms(terms_c)"
      ]
    },
    {
      "cell_type": "markdown",
      "metadata": {},
      "source": [
        "Next, we pass in the pre-initialized Words object to the `collect_across_time`, also passing\nin any word collection settings.\n\n\n"
      ]
    },
    {
      "cell_type": "code",
      "execution_count": null,
      "metadata": {
        "collapsed": false
      },
      "outputs": [],
      "source": [
        "# Word collection settings\nretmax = 5"
      ]
    },
    {
      "cell_type": "code",
      "execution_count": null,
      "metadata": {
        "collapsed": false
      },
      "outputs": [],
      "source": [
        "# Collect words results across time\nword_results = collect_across_time(words, decades, retmax=retmax)"
      ]
    },
    {
      "cell_type": "markdown",
      "metadata": {},
      "source": [
        "As before, the output is a list of LISC objects, each containing the results for a particular\ntime period.\n\nWe can loop across these objects to examines results per time period.\n\n\n"
      ]
    },
    {
      "cell_type": "code",
      "execution_count": null,
      "metadata": {
        "collapsed": false
      },
      "outputs": [],
      "source": [
        "# Check the titles found across different time ranges\nfor time_period, results in word_results.items():\n    print(str(time_period) + 's:')\n    for res_title in results.results[0].titles:\n        print('\\t', res_title)"
      ]
    },
    {
      "cell_type": "markdown",
      "metadata": {},
      "source": [
        "That completes the tutorial for searching across time!\n\n\n"
      ]
    }
  ],
  "metadata": {
    "kernelspec": {
      "display_name": "Python 3",
      "language": "python",
      "name": "python3"
    },
    "language_info": {
      "codemirror_mode": {
        "name": "ipython",
        "version": 3
      },
      "file_extension": ".py",
      "mimetype": "text/x-python",
      "name": "python",
      "nbconvert_exporter": "python",
      "pygments_lexer": "ipython3",
      "version": "3.8.3"
    }
  },
  "nbformat": 4,
  "nbformat_minor": 0
}