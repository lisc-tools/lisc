{
  "cells": [
    {
      "cell_type": "markdown",
      "metadata": {},
      "source": [
        "\n# Tutorial 00: LISC Overview\n\nAn overview of the LISC code organization and approach.\n"
      ]
    },
    {
      "cell_type": "markdown",
      "metadata": {},
      "source": [
        "## LISC Overview\n\nLISC, or 'Literature Scanner', is a module for collecting and analyzing scientific literature.\n\nLISC serves mainly as a wrapper around available application programmer interfaces (APIs)\nthat provide access to databases of scientific literature and related data.\n\nIn this overview, we will first introduce LISC, including the overall code structure,\nand how the module handles search terms, data, files, and requests.\n\n\n"
      ]
    },
    {
      "cell_type": "markdown",
      "metadata": {},
      "source": [
        "### Available Analyses\n\nThe utility of LISC is based on the APIs that it accesses.\n\nCurrently supported external APIs include:\n\n- the NCBI [EUtils](https://www.ncbi.nlm.nih.gov/books/NBK25500/) API,\n  which provides access to the Pubmed database\n- the [OpenCitations](https://opencitations.net) API,\n  which provides access to citation data\n\nThere are different ways to interact with these APIs, which each provide different data.\n\nData collection and analysis approaches available through LISC include:\n\nEUtils:\n  - counts: collect word co-occurrence data, counting how often terms occur together\n  - words: collect text data and meta-data from scientific articles\n\nOpenCitations:\n  - citations: collect citation data and counts of citations to and from articles\n\n\n"
      ]
    },
    {
      "cell_type": "markdown",
      "metadata": {},
      "source": [
        "## LISC Objects\n\nLISC is object oriented, meaning it uses objects to handle search terms and collect data.\n\nWe will first explore the :class:`~.Base` object, which is the underlying object that is\nused for data collection and analyses with EUtils.\n\nNote that you will typically not use the :class:`~.Base` object directly,\nbut it is the base object for the :class:`~.Counts` and :class:`~.Words` objects\nthat we will use later.\n\n\n"
      ]
    },
    {
      "cell_type": "code",
      "execution_count": null,
      "metadata": {
        "collapsed": false
      },
      "outputs": [],
      "source": [
        "# Import the Base object used in LISC\nfrom lisc.objects.base import Base"
      ]
    },
    {
      "cell_type": "code",
      "execution_count": null,
      "metadata": {
        "collapsed": false
      },
      "outputs": [],
      "source": [
        "# Initialize a base object\nbase = Base()"
      ]
    },
    {
      "cell_type": "markdown",
      "metadata": {},
      "source": [
        "## Search Terms\n\nTo collect scientific articles and associated data, we first need to define search terms\nof interest to find relevant literature.\n\nSearch terms in LISC are organized as lists of strings. Each new search terms should\nbe it's own list.\n\nBy default, search terms are exact term matches, meaning results need to contain exact\nmatches to the given search terms.\n\nTerms can be added to the object with the :meth:`~.Base.add_terms` method.\n\n\n"
      ]
    },
    {
      "cell_type": "code",
      "execution_count": null,
      "metadata": {
        "collapsed": false
      },
      "outputs": [],
      "source": [
        "# Set some search terms of interest\nterms = [['chemistry'], ['biology']]\n\n# Add terms to the object\nbase.add_terms(terms)"
      ]
    },
    {
      "cell_type": "code",
      "execution_count": null,
      "metadata": {
        "collapsed": false
      },
      "outputs": [],
      "source": [
        "# Check the terms added to the base object\nbase.check_terms()"
      ]
    },
    {
      "cell_type": "markdown",
      "metadata": {},
      "source": [
        "## Complex Search Terms\n\nSo far, we have chosen some search terms, defined as single words, to use as queries,\nand added them to our object.\n\nSometimes we might want more control than just using single words, in which case we might\nwant to add synonyms and/or use include inclusions or exclusion words.\n\n### Synonyms\n\nTo include synonyms, just add more entries to the input list of terms.\n\nMultiple strings within the same list are combined with the 'OR' operator. This means\nresults will be returned if they include any of the given terms.\n\nFor example, the set of search terms ['brain', 'cortex'] is interpreted as:\n'(\"brain\"OR\"cortex\")'.\n\nBeing able to include synonyms is the reason each term entry is itself a list.\n\n### Inclusion & Exclusion Words\n\nSometimes we might need to control the returned results, by specifically including\nor excluding certain topics or results. We can do so by adding 'inclusion' and/or\n'exclusion' words.\n\nInclusions words are words that must also appear for a result to be returned.\nInclusions words are combined with the 'AND' operator, meaning entries\nwill only be included if they also include these words.\n\nFor example, the search terms ['brain', 'cortex'] with the inclusion word ['biology']\nis interpreted as '(\"brain\"OR\"cortex\")AND(\"biology\")'.\n\nExclusions words are words that must not be included in a result for it to be returned.\nExclusion words are combined with the 'NOT' operator, meaning entries\nwill be excluded if they include these terms.\n\nFor example, the search terms ['brain', 'cortex'] with the exclusion word ['body']\nis interpreted as '(\"brain\"OR\"cortex\")NOT(\"body\")'.\n\n### Putting it all Together\n\nSynonyms, inclusion and exclusion words can all be used together.\nYou can also specify synonyms for inclusion and exclusion words.\n\nFor example, the following set of search term components:\n\n- search terms ['brain', 'cortex']\n- inclusion words ['biology', 'biochemistry']\n- exclusion words ['body', 'corporeal']\n\nAll combine to give the search term of:\n\n- `'(\"brain\"OR\"cortex\")AND(\"biology\"OR\"biochemistry\")NOT(\"body\"OR\"corporeal\")'`\n\nInclusion and exclusion words should be lists of the same length as the number of\nsearch terms. Each inclusion and exclusion term is used for the corresponding search\nterm, matched by index. An empty list is used to indicate that there are no inclusions\nor exclusions words for a given search term.\n\nNow let's update our set of terms, to include some synonyms, inclusions and exclusions.\n\n\n"
      ]
    },
    {
      "cell_type": "code",
      "execution_count": null,
      "metadata": {
        "collapsed": false
      },
      "outputs": [],
      "source": [
        "# Set up a list of multiple terms, each with synonyms\nterms = [['gene', 'genetic'], ['cortex', 'cortical']]\n\n# Add the terms to our object\nbase.add_terms(terms)"
      ]
    },
    {
      "cell_type": "code",
      "execution_count": null,
      "metadata": {
        "collapsed": false
      },
      "outputs": [],
      "source": [
        "# Set up inclusions and exclusions\n#   Each is a list, that should be the same length as the number of terms\ninclusions = [['brain'], ['body']]\nexclusions = [['protein'], ['subcortical']]\n\n# Add the inclusion and exclusions\nbase.add_terms(inclusions, 'inclusions')\nbase.add_terms(exclusions, 'exclusions')"
      ]
    },
    {
      "cell_type": "code",
      "execution_count": null,
      "metadata": {
        "collapsed": false
      },
      "outputs": [],
      "source": [
        "# Check the loaded terms\nbase.check_terms()"
      ]
    },
    {
      "cell_type": "code",
      "execution_count": null,
      "metadata": {
        "collapsed": false
      },
      "outputs": [],
      "source": [
        "# Check inclusion & exclusion words\nbase.check_terms('inclusions')\nprint('\\n')\nbase.check_terms('exclusions')"
      ]
    },
    {
      "cell_type": "markdown",
      "metadata": {},
      "source": [
        "### Labels\n\nSince search terms can have multiple components, LISC also creates and uses 'labels'\nfor each search term.\n\nBy default, the label for each term is defined as the first word in the search term list.\nCustom labels can also be added to the object.\n\n\n"
      ]
    },
    {
      "cell_type": "code",
      "execution_count": null,
      "metadata": {
        "collapsed": false
      },
      "outputs": [],
      "source": [
        "# Check the label for the current terms\nbase.labels"
      ]
    },
    {
      "cell_type": "markdown",
      "metadata": {},
      "source": [
        "### Check Full Search Terms\n\nIf you want to check what the full search term will be, the :meth:`~.Base.make_search_term`\ncan be used to create the combined term.\n\nNote that terms can be accessed using either their index or their label.\n\n\n"
      ]
    },
    {
      "cell_type": "code",
      "execution_count": null,
      "metadata": {
        "collapsed": false
      },
      "outputs": [],
      "source": [
        "# Print out the full search terms\nprint(base.make_search_term(0))\nprint(base.make_search_term('cortex'))"
      ]
    },
    {
      "cell_type": "markdown",
      "metadata": {},
      "source": [
        "### LISC Objects\n\nThough LISC offers an object-oriented approach, all the core procedures used for\ncollecting and analyzing data are implemented and available as stand-alone functions.\n\nThe objects serve primarily to help organize the data and support common analyses.\n\nIf you prefer, you can use the functions directly, which may be useful for custom\nanalyses. To see examples of using the function, see the Examples page.\n\n\n"
      ]
    },
    {
      "cell_type": "markdown",
      "metadata": {},
      "source": [
        "## Database Management\n\nWhen collecting and analyzing the scientific literature, there can be a lot of data,\nand therefore a lot of files, to keep track of.\n\nTo address this, LISC proposes a database structure for organizing collected data.\n\nUsing this structure is not required to use LISC, but if you do use it, then LISC functions\nand objects can automatically load and save files to a known and organized output structure.\n\nIn some of the example, you will see the :class:`~.SCDB` database object, which\nstores the organization for a LISC database.\n\n\n"
      ]
    },
    {
      "cell_type": "code",
      "execution_count": null,
      "metadata": {
        "collapsed": false
      },
      "outputs": [],
      "source": [
        "# Import a helper function to create a LISC file structure\nfrom lisc.utils.db import create_file_structure"
      ]
    },
    {
      "cell_type": "markdown",
      "metadata": {},
      "source": [
        "We can use :func:`~.create_file_structure` to create a LISC file structure.\n\nWhen called without any inputs, a database structure is created in the current directory.\n\n\n"
      ]
    },
    {
      "cell_type": "code",
      "execution_count": null,
      "metadata": {
        "collapsed": false
      },
      "outputs": [],
      "source": [
        "# Create a database file structure\ndb = create_file_structure()"
      ]
    },
    {
      "cell_type": "code",
      "execution_count": null,
      "metadata": {
        "collapsed": false
      },
      "outputs": [],
      "source": [
        "# Check the file structure for the created database\ndb.check_file_structure()"
      ]
    }
  ],
  "metadata": {
    "kernelspec": {
      "display_name": "Python 3",
      "language": "python",
      "name": "python3"
    },
    "language_info": {
      "codemirror_mode": {
        "name": "ipython",
        "version": 3
      },
      "file_extension": ".py",
      "mimetype": "text/x-python",
      "name": "python",
      "nbconvert_exporter": "python",
      "pygments_lexer": "ipython3",
      "version": "3.8.3"
    }
  },
  "nbformat": 4,
  "nbformat_minor": 0
}