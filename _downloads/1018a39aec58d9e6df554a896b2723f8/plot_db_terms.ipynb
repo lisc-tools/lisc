{
  "cells": [
    {
      "cell_type": "code",
      "execution_count": null,
      "metadata": {
        "collapsed": false
      },
      "outputs": [],
      "source": [
        "%matplotlib inline"
      ]
    },
    {
      "cell_type": "markdown",
      "metadata": {},
      "source": [
        "\n# Database and Terms Lists\n\nExploring the LISC database, and using search terms loaded from files.\n"
      ]
    },
    {
      "cell_type": "code",
      "execution_count": null,
      "metadata": {
        "collapsed": false
      },
      "outputs": [],
      "source": [
        "# Import a function to create a LISC database file structure\nfrom lisc.utils.db import create_file_structure"
      ]
    },
    {
      "cell_type": "markdown",
      "metadata": {},
      "source": [
        "## SCDB Database Structure\n\nLISC provides and uses a custom directory structure.\n\nIf you want to store terms definitions and data, these files can be put into a LISC\ndatabase structure, and then relevant functions and objects will be able to load and\nuse these files.\n\nLISC also uses a database object, :class:`~.SCDB`, to manage these databases.\n\nYou can create a database structure using the :func:`~.create_file_structure` function.\nWhen you call this function, a :class:`~.SCDB` object is returned, that describes\nthe built database structure.\n\n\n"
      ]
    },
    {
      "cell_type": "code",
      "execution_count": null,
      "metadata": {
        "collapsed": false
      },
      "outputs": [],
      "source": [
        "# Create a database file structure\n#   When called without a path input, the folder structure is created in the current directory\ndb = create_file_structure()"
      ]
    },
    {
      "cell_type": "markdown",
      "metadata": {},
      "source": [
        "## Storing Terms in Text Files\n\nHere we will explore using files to store terms to use for LISC collections.\n\nThe typical use case would be to curate and write text files manually.\n\nFor demonstration here, we will first programmatically create an example\ntxt file of terms to use.\n\n\n"
      ]
    },
    {
      "cell_type": "code",
      "execution_count": null,
      "metadata": {
        "collapsed": false
      },
      "outputs": [],
      "source": [
        "# Set some terms file\nterms = [['brain', 'cortex'], ['body', 'corporeal']]\n\n# Save the terms out to a txt file\nwith open(db.get_file_path('terms', 'terms.txt'), 'w') as term_file:\n    for term in terms:\n        term_file.write(','.join(term))\n        term_file.write('\\n')"
      ]
    },
    {
      "cell_type": "code",
      "execution_count": null,
      "metadata": {
        "collapsed": false
      },
      "outputs": [],
      "source": [
        "# Check the file structure for the created database\ndb.check_file_structure()"
      ]
    },
    {
      "cell_type": "code",
      "execution_count": null,
      "metadata": {
        "collapsed": false
      },
      "outputs": [],
      "source": [
        "# Get a list of all files available in the 'terms' folder\nterm_files = db.get_files('terms')\nprint(term_files)"
      ]
    },
    {
      "cell_type": "code",
      "execution_count": null,
      "metadata": {
        "collapsed": false
      },
      "outputs": [],
      "source": [
        "# Get the full file path for the terms file\ndb.get_file_path('terms', 'terms.txt')"
      ]
    },
    {
      "cell_type": "markdown",
      "metadata": {},
      "source": [
        "## Term File Structure\n\nFor term files, each line should reflect a new term, with synonyms for the same term\nstored as comma-separated values on the same line.\n\n\n"
      ]
    },
    {
      "cell_type": "code",
      "execution_count": null,
      "metadata": {
        "collapsed": false
      },
      "outputs": [],
      "source": [
        "# Check out the terms file contents\nwith open(db.get_file_path('terms', 'terms.txt'), 'r') as term_file:\n    print(term_file.read())"
      ]
    },
    {
      "cell_type": "markdown",
      "metadata": {},
      "source": [
        "## Loading Terms from File\n\nText files of Terms can be loaded and used with LISC objects, such as\n:class:`~.Counts` and :class:`~.Words`.\n\nFor a general example, here we will use the underlying :class:`~.Base` object.\n\n\n"
      ]
    },
    {
      "cell_type": "code",
      "execution_count": null,
      "metadata": {
        "collapsed": false
      },
      "outputs": [],
      "source": [
        "# Load the base object in LISC\nfrom lisc.objects.base import Base"
      ]
    },
    {
      "cell_type": "code",
      "execution_count": null,
      "metadata": {
        "collapsed": false
      },
      "outputs": [],
      "source": [
        "# Initialize a base LISC object\nbase = Base()\n\n# Add terms to object, loading from file\nbase.add_terms('terms.txt', directory=db)"
      ]
    },
    {
      "cell_type": "code",
      "execution_count": null,
      "metadata": {
        "collapsed": false
      },
      "outputs": [],
      "source": [
        "# Check the terms that were loaded from file\nbase.check_terms()"
      ]
    },
    {
      "cell_type": "markdown",
      "metadata": {},
      "source": [
        "The same structure can be used to store exclusion and inclusion words for terms.\n\nExclusion and inclusions words should be stored in their own text files, also\nusing one line per term, with comma-separated values for synonyms.\n\nFiles that reflect the same set of terms, with a file for search terms, and optionally\nassociated files for inclusion and exclusion terms should have the same number of lines,\nand the n-th line of each file should refer to the same term. If a given search\nterm does not have an associated inclusion or exclusion term, leave that line blank.\n\n\n"
      ]
    }
  ],
  "metadata": {
    "kernelspec": {
      "display_name": "Python 3",
      "language": "python",
      "name": "python3"
    },
    "language_info": {
      "codemirror_mode": {
        "name": "ipython",
        "version": 3
      },
      "file_extension": ".py",
      "mimetype": "text/x-python",
      "name": "python",
      "nbconvert_exporter": "python",
      "pygments_lexer": "ipython3",
      "version": "3.8.3"
    }
  },
  "nbformat": 4,
  "nbformat_minor": 0
}