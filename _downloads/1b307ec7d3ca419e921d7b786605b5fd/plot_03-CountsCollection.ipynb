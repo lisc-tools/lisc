{
  "cells": [
    {
      "cell_type": "markdown",
      "metadata": {},
      "source": [
        "\n# Tutorial 03: Counts Collection\n\nCollecting term co-occurrence data from the scientific literature.\n"
      ]
    },
    {
      "cell_type": "markdown",
      "metadata": {},
      "source": [
        "## Term Co-occurrence\n\nThe 'Counts' approach, or term co-occurrence, searches the literature for\nhow often terms of interest appear together.\n\nThis type of analysis can be used to infer associations between terms.\n\n\n"
      ]
    },
    {
      "cell_type": "code",
      "execution_count": null,
      "metadata": {
        "collapsed": false
      },
      "outputs": [],
      "source": [
        "# Import the Counts object, which is used for co-occurrence analysis\nfrom lisc import Counts\n\n# Import the SCDB object, which defines a database structure for saved data\nfrom lisc.utils.db import SCDB\n\n# Import a utility function for saving out collected data\nfrom lisc.utils.io import save_object"
      ]
    },
    {
      "cell_type": "markdown",
      "metadata": {},
      "source": [
        "## Counts Object\n\nThe :class:`~.Counts` object is used to handle term co-occurrence collection and analyses.\n\nThis object is based on the :class:`~.Base` object introduced in the prior tutorial,\nmeaning we can define and add terms to it like introduced there.\n\n\n"
      ]
    },
    {
      "cell_type": "markdown",
      "metadata": {},
      "source": [
        "### Counts: Single List of Terms\n\nFor the first example of running a counts analysis, we will use a single list of terms.\n\nWhen a single list of terms is provided, the word co-occurrence is collected as the\nco-occurrence of each term with every other term in the list.\n\nLet's start with an example using different parts of the brain, and examine\nhow often these brain regions are talked about together.\n\n\n"
      ]
    },
    {
      "cell_type": "code",
      "execution_count": null,
      "metadata": {
        "collapsed": false
      },
      "outputs": [],
      "source": [
        "# Set up some terms to search for\nterms = [['frontal lobe'], ['temporal lobe'], ['parietal lobe'], ['occipital lobe']]\n\n# Initialize counts object & add the terms that we want to collect co-occurrences for\ncounts = Counts()\ncounts.add_terms(terms)"
      ]
    },
    {
      "cell_type": "code",
      "execution_count": null,
      "metadata": {
        "collapsed": false
      },
      "outputs": [],
      "source": [
        "# Collect co-occurrence data\ncounts.run_collection(verbose=True)"
      ]
    },
    {
      "cell_type": "markdown",
      "metadata": {},
      "source": [
        "We have now collected some literature data!\n\nThe :class:`~.Counts` object will now contain data on term co-occurrence in the literature.\n\nThis is stored in the `counts` attribute of the object.\n\n\n"
      ]
    },
    {
      "cell_type": "code",
      "execution_count": null,
      "metadata": {
        "collapsed": false
      },
      "outputs": [],
      "source": [
        "# Check out the raw count data\nprint(counts.counts)"
      ]
    },
    {
      "cell_type": "markdown",
      "metadata": {},
      "source": [
        "The :class:`~.Counts` object also has methods for exploring the collected data.\n\n\n"
      ]
    },
    {
      "cell_type": "code",
      "execution_count": null,
      "metadata": {
        "collapsed": false
      },
      "outputs": [],
      "source": [
        "# Check how many articles were found for each search term\ncounts.check_counts()"
      ]
    },
    {
      "cell_type": "code",
      "execution_count": null,
      "metadata": {
        "collapsed": false
      },
      "outputs": [],
      "source": [
        "# Check the most studied term\ncounts.check_top()"
      ]
    },
    {
      "cell_type": "markdown",
      "metadata": {},
      "source": [
        "### Counts: Two Terms Lists\n\nIn the first example above, we provided a single list of terms.\n\nNow let's explore using two different sets of terms. When providing two lists of terms,\neach term from each list is compared to each term of the other list.\n\nIn this example, we will keep our list of brain regions, and explore how they\nrelate to different sensory systems.\n\n\n"
      ]
    },
    {
      "cell_type": "code",
      "execution_count": null,
      "metadata": {
        "collapsed": false
      },
      "outputs": [],
      "source": [
        "# Define some new terms\nterms_a = [['frontal lobe'], ['temporal lobe'], ['parietal lobe'], ['occipital lobe']]\nterms_b = [['vision'], ['audition', 'auditory'], ['somatosensory'], ['olfaction', 'smell'],\n           ['gustation', 'taste'], ['proprioception'], ['nociception', 'pain']]"
      ]
    },
    {
      "cell_type": "markdown",
      "metadata": {},
      "source": [
        "Now that we have multiple term lists, we have to keep track of and specify which is which.\n\nThis is done with the `dim` argument (for 'dimension'), and encoded as either 'A' or 'B'.\n\n\n"
      ]
    },
    {
      "cell_type": "code",
      "execution_count": null,
      "metadata": {
        "collapsed": false
      },
      "outputs": [],
      "source": [
        "# Set terms lists, indicating they are separate lists with the 'A' and 'B' labels\ncounts.add_terms(terms_a, dim='A')\ncounts.add_terms(terms_b, dim='B')"
      ]
    },
    {
      "cell_type": "code",
      "execution_count": null,
      "metadata": {
        "collapsed": false
      },
      "outputs": [],
      "source": [
        "# Collect co-occurrence data\ncounts.run_collection()"
      ]
    },
    {
      "cell_type": "markdown",
      "metadata": {},
      "source": [
        "From here you can use all the same methods to explore the data we just collected.\n\nIn the next tutorial, we will explore analyzing our collected counts data.\n\nFor now, let's save out our collected counts data, using the LISC utility to save the object.\n\n\n"
      ]
    },
    {
      "cell_type": "code",
      "execution_count": null,
      "metadata": {
        "collapsed": false
      },
      "outputs": [],
      "source": [
        "# Save out the counts object\nsave_object(counts, 'tutorial_counts', directory=SCDB('lisc_db'))"
      ]
    }
  ],
  "metadata": {
    "kernelspec": {
      "display_name": "Python 3",
      "language": "python",
      "name": "python3"
    },
    "language_info": {
      "codemirror_mode": {
        "name": "ipython",
        "version": 3
      },
      "file_extension": ".py",
      "mimetype": "text/x-python",
      "name": "python",
      "nbconvert_exporter": "python",
      "pygments_lexer": "ipython3",
      "version": "3.8.3"
    }
  },
  "nbformat": 4,
  "nbformat_minor": 0
}