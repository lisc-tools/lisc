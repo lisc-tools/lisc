{
  "cells": [
    {
      "cell_type": "code",
      "execution_count": null,
      "metadata": {
        "collapsed": false
      },
      "outputs": [],
      "source": [
        "%matplotlib inline"
      ]
    },
    {
      "cell_type": "markdown",
      "metadata": {},
      "source": [
        "\n# URLs and Requests\n\nExplore LISC utilities for managing URLs and requests.\n"
      ]
    },
    {
      "cell_type": "markdown",
      "metadata": {},
      "source": [
        "## URLs & Requests\n\nLISC uses custom objects to manage URLs and launch requests. These can be used to\ndefine how to interact with APIs of interest.\n\nFor the main LISC functionality, you don't have to deal with these objects directly.\nThey are used 'under the hood' by LISC functions for collecting data and interacting with\nAPIs without requiring direct user interaction.\n\nIn this example, we will explore using these objects directly, which may be useful for\ncreating custom data collections, and/or to connect LISC with other APIs.\n\n\n"
      ]
    },
    {
      "cell_type": "code",
      "execution_count": null,
      "metadata": {
        "collapsed": false
      },
      "outputs": [],
      "source": [
        "# Import the requester object\nfrom lisc.requester import Requester"
      ]
    },
    {
      "cell_type": "markdown",
      "metadata": {},
      "source": [
        "### Requester Object\n\nThe :class:`~.Requester` object uses the\n`requests <https://2.python-requests.org/>`_\nmodule to launch URL requests. It also adds some functionality such as throttling, to\nensure requests respect API limits, as well as metadata collection and URL logging.\n\n\n"
      ]
    },
    {
      "cell_type": "code",
      "execution_count": null,
      "metadata": {
        "collapsed": false
      },
      "outputs": [],
      "source": [
        "# Initialize a requester object\nreq = Requester()"
      ]
    },
    {
      "cell_type": "code",
      "execution_count": null,
      "metadata": {
        "collapsed": false
      },
      "outputs": [],
      "source": [
        "# Set the minimum wait time between requests\nreq.set_wait_time(0.5)"
      ]
    },
    {
      "cell_type": "code",
      "execution_count": null,
      "metadata": {
        "collapsed": false
      },
      "outputs": [],
      "source": [
        "# Use the Requester object to request some web pages\nfor url in ['https://www.google.com', 'https://www.yahoo.com', 'https://duckduckgo.com']:\n    page = req.request_url(url)\n    print('Collecting web page \\t {} \\t got status code \\t {}'.format(page.url, page.status_code))"
      ]
    },
    {
      "cell_type": "code",
      "execution_count": null,
      "metadata": {
        "collapsed": false
      },
      "outputs": [],
      "source": [
        "# Check details of the requester object\nreq.check()"
      ]
    },
    {
      "cell_type": "code",
      "execution_count": null,
      "metadata": {
        "collapsed": false
      },
      "outputs": [],
      "source": [
        "# Get information from the requester object as a dictionary\nprint(req.as_dict())"
      ]
    },
    {
      "cell_type": "markdown",
      "metadata": {},
      "source": [
        "### URLs Object\n\nThe :class:`~.URLs` object is used in LISC to store URLs used for interacting with APIs.\n\nIt includes functionality for using different utilities available through an API,\nand for storing and using different settings that may be available.\n\nIn this example, we will explore using the the URLs object to access the\n`duckduckgo <https://duckduckgo.com>`_ API.\n\n\n"
      ]
    },
    {
      "cell_type": "code",
      "execution_count": null,
      "metadata": {
        "collapsed": false
      },
      "outputs": [],
      "source": [
        "# Import the URLs object\nfrom lisc.urls import URLs"
      ]
    },
    {
      "cell_type": "code",
      "execution_count": null,
      "metadata": {
        "collapsed": false
      },
      "outputs": [],
      "source": [
        "# Set the base path for an API to use\nbase_path = 'https://api.duckduckgo.com/'\n\n# Create the URLs object for the API, specifying it has a search utility\nurls = URLs(base_path, {'search' : ''})"
      ]
    },
    {
      "cell_type": "code",
      "execution_count": null,
      "metadata": {
        "collapsed": false
      },
      "outputs": [],
      "source": [
        "# Build and check the search URL\nurls.build_url('search', settings={'format': 'json'})\nurls.check_url('search')"
      ]
    },
    {
      "cell_type": "code",
      "execution_count": null,
      "metadata": {
        "collapsed": false
      },
      "outputs": [],
      "source": [
        "# Get the URL to launch a search request with a specified search term\napi_url = urls.get_url('search', settings={'q' : 'brain'})\nprint(api_url)"
      ]
    },
    {
      "cell_type": "code",
      "execution_count": null,
      "metadata": {
        "collapsed": false
      },
      "outputs": [],
      "source": [
        "# Request the URL with the requester object from before\napi_page = req.request_url(api_url)"
      ]
    },
    {
      "cell_type": "code",
      "execution_count": null,
      "metadata": {
        "collapsed": false
      },
      "outputs": [],
      "source": [
        "# Check the source of the first search result\napi_page.json()['AbstractSource']"
      ]
    },
    {
      "cell_type": "markdown",
      "metadata": {},
      "source": [
        "### Supported APIs\n\nThe :class:`~.URLs` object can be used to create objects that support external APIs.\n\nLISC currently supports APIs for\n`EUtils <https://www.ncbi.nlm.nih.gov/books/NBK25500/>`_ and\n`OpenCitations <https://opencitations.net>`_.\n\nThese are implemented as custom objects which are built on top of the :class:`~.URLs` object.\n\n\n"
      ]
    },
    {
      "cell_type": "code",
      "execution_count": null,
      "metadata": {
        "collapsed": false
      },
      "outputs": [],
      "source": [
        "# Import URL objects for supported APIs\nfrom lisc.urls import EUtils, OpenCitations"
      ]
    },
    {
      "cell_type": "code",
      "execution_count": null,
      "metadata": {
        "collapsed": false
      },
      "outputs": [],
      "source": [
        "# Initialize EUtils API object\neutils = EUtils()\n\n# Check what utilities are supported for the EUtils API\nprint(eutils.utils)"
      ]
    },
    {
      "cell_type": "code",
      "execution_count": null,
      "metadata": {
        "collapsed": false
      },
      "outputs": [],
      "source": [
        "# Initialize an OpenCitations API object\ncitations = OpenCitations()\n\n# Check what utilities are supported for the OpenCitations API\nprint(citations.utils)"
      ]
    },
    {
      "cell_type": "markdown",
      "metadata": {},
      "source": [
        "### Adding New APIs\n\nThe `EUtils` and `OpenCitations` objects can be used as examples for potentially adding\nnew APIs to LISC. New API objects can be created by inheriting from the `URLs` object,\nand added information on the utilities and settings available for that particular API.\n\n\n"
      ]
    }
  ],
  "metadata": {
    "kernelspec": {
      "display_name": "Python 3",
      "language": "python",
      "name": "python3"
    },
    "language_info": {
      "codemirror_mode": {
        "name": "ipython",
        "version": 3
      },
      "file_extension": ".py",
      "mimetype": "text/x-python",
      "name": "python",
      "nbconvert_exporter": "python",
      "pygments_lexer": "ipython3",
      "version": "3.8.3"
    }
  },
  "nbformat": 4,
  "nbformat_minor": 0
}