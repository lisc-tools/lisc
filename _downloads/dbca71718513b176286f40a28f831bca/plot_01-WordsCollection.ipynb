{
  "cells": [
    {
      "cell_type": "code",
      "execution_count": null,
      "metadata": {
        "collapsed": false
      },
      "outputs": [],
      "source": [
        "%matplotlib inline"
      ]
    },
    {
      "cell_type": "markdown",
      "metadata": {},
      "source": [
        "\n# Tutorial 01: Words Collection\n\nCollecting literature data, including text and metadata for specified search terms.\n"
      ]
    },
    {
      "cell_type": "markdown",
      "metadata": {},
      "source": [
        "## Words Analysis\n\nThe 'Words' approach collects text and meta-data from articles found for requested search terms.\n\n\n"
      ]
    },
    {
      "cell_type": "code",
      "execution_count": null,
      "metadata": {
        "collapsed": false
      },
      "outputs": [],
      "source": [
        "# Import the Words object, which is used for words collection\nfrom lisc import Words\n\n# Import the SCDB object, which organizes a database structure for saved data\nfrom lisc.utils.db import SCDB\n\n# Import a utility function for saving out collected data\nfrom lisc.utils.io import save_object"
      ]
    },
    {
      "cell_type": "markdown",
      "metadata": {},
      "source": [
        "## Words Object\n\nThe :class:`~.Words` object is used to collect and analyze text data and article metadata.\n\nSearch terms are specified, as previously introduced, to find articles of interest,\nfrom which text data and meta-data is collected.\n\n\n"
      ]
    },
    {
      "cell_type": "code",
      "execution_count": null,
      "metadata": {
        "collapsed": false
      },
      "outputs": [],
      "source": [
        "# Set some search terms\nterms = [['brain'], ['body']]"
      ]
    },
    {
      "cell_type": "code",
      "execution_count": null,
      "metadata": {
        "collapsed": false
      },
      "outputs": [],
      "source": [
        "# Initialize Words object and set the terms to search for\nwords = Words()\nwords.add_terms(terms)"
      ]
    },
    {
      "cell_type": "markdown",
      "metadata": {},
      "source": [
        "To get started, we will first run a collection of words data, collecting up to\n5 articles for each search term, as specified by the `retmax` parameter.\n\n\n"
      ]
    },
    {
      "cell_type": "code",
      "execution_count": null,
      "metadata": {
        "collapsed": false
      },
      "outputs": [],
      "source": [
        "# Collect words data\nwords.run_collection(retmax=5)"
      ]
    },
    {
      "cell_type": "markdown",
      "metadata": {},
      "source": [
        "### LISC Data Objects\n\nLISC uses custom objects to store collected words data.\n\nThe :obj:`~.Articles` object stores data for each collected article.\n\nCollected data includes:\n\n- titles\n- journals\n- authors\n- publication years\n- abstract text\n- keywords\n- DOIs\n\n\n"
      ]
    },
    {
      "cell_type": "code",
      "execution_count": null,
      "metadata": {
        "collapsed": false
      },
      "outputs": [],
      "source": [
        "# Check the collected words data\nprint(words.results)"
      ]
    },
    {
      "cell_type": "code",
      "execution_count": null,
      "metadata": {
        "collapsed": false
      },
      "outputs": [],
      "source": [
        "# Check some specific fields of the collected data\nprint(words.results[0].n_articles)\nprint(words.results[0].titles)"
      ]
    },
    {
      "cell_type": "markdown",
      "metadata": {},
      "source": [
        "## Word Collections\n\nCollected words data from articles can become quite large. We will often want to use\nsome of the available EUtils settings to help control what is collected, and how the data\ncollection proceeds.\n\nIn the next example, we'll revisit the same search terms we used in the previous\nco-occurence analysis, and explore some of these settings.\n\n\n"
      ]
    },
    {
      "cell_type": "code",
      "execution_count": null,
      "metadata": {
        "collapsed": false
      },
      "outputs": [],
      "source": [
        "# Set search terms of interest\nterms = [['frontal lobe'], ['temporal lobe'], ['parietal lobe'], ['occipital lobe']]\nwords.add_terms(terms)"
      ]
    },
    {
      "cell_type": "markdown",
      "metadata": {},
      "source": [
        "### EUtils Settings\n\nThe Pubmed EUtils has several settings that can help control searches, including:\n\n- `field` : which part of the record to search for search results\n- `retmax` : the maximum number of records to return for a given search\n- `usehistory` : whether to temporarily store results remotely and use them for interim requests\n\nFor some general guidelines:\n\n- the `field` setting defaults to `TIAB` for titles and abstracts\n- the `retmax` should be set to an upper bound for the number of articles you would like\n  to collect, especially if your search terms are likely to return a large number of articles\n- the `usehistory` parameter should be set to True if you are running a large collection,\n  as this is more efficient\n\n### Word Collection Settings\n\nFor larger collections, the collectio my take a while and return a large amount of data.\n\nBecause of this, the :class:`~.Words` object allows for continuously saving collected data.\nIf set to True, the `save_and_clear` parameter saves out collected data, and clears the\nobject per term, so that collected data does not have to stay in RAM.\n\nNow, let's run our bigger collection, using some of these settings.\n\n\n"
      ]
    },
    {
      "cell_type": "code",
      "execution_count": null,
      "metadata": {
        "collapsed": false
      },
      "outputs": [],
      "source": [
        "# Set up our database object, so we can save out data as we go\ndb = SCDB('lisc_db')\n\n# Collect words data\nwords.run_collection(usehistory=True, retmax=15, save_and_clear=True, directory=db)"
      ]
    },
    {
      "cell_type": "markdown",
      "metadata": {},
      "source": [
        "After this collection, the Words object does not actually include the collected data,\nas the data was saved and cleared throughout the collection.\n\nThe Words object does still have all the information about the search terms, which we can\nuse to reload our data, so it is still worth saving as well.\n\nWe will analyze our words data in the next tutorial. For now lets save out the Words object.\n\n\n"
      ]
    },
    {
      "cell_type": "code",
      "execution_count": null,
      "metadata": {
        "collapsed": false
      },
      "outputs": [],
      "source": [
        "# Save out the words data\nsave_object(words, 'tutorial_words', directory=db)"
      ]
    }
  ],
  "metadata": {
    "kernelspec": {
      "display_name": "Python 3",
      "language": "python",
      "name": "python3"
    },
    "language_info": {
      "codemirror_mode": {
        "name": "ipython",
        "version": 3
      },
      "file_extension": ".py",
      "mimetype": "text/x-python",
      "name": "python",
      "nbconvert_exporter": "python",
      "pygments_lexer": "ipython3",
      "version": "3.8.3"
    }
  },
  "nbformat": 4,
  "nbformat_minor": 0
}